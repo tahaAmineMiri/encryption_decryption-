{
 "cells": [
  {
   "cell_type": "code",
   "execution_count": 31,
   "id": "6f995e4c",
   "metadata": {},
   "outputs": [],
   "source": [
    "import math\n",
    "from math import ceil"
   ]
  },
  {
   "cell_type": "markdown",
   "id": "fc1b63ae",
   "metadata": {},
   "source": [
    "# Create the TranspositionCipher class"
   ]
  },
  {
   "cell_type": "code",
   "execution_count": null,
   "id": "24484932",
   "metadata": {},
   "outputs": [],
   "source": [
    "class TranspositionCipher(object): \n",
    "        \n",
    "    def __init__(self, key):\n",
    "        # Initialize the TranspositionCipher with a given key.\n",
    "        self.key = key\n",
    "\n",
    "    def encrypt_message(self, message):\n",
    "\n",
    "        # Convert the message to lowercase\n",
    "        message = message.lower()\n",
    "        message_length = len(message)\n",
    "        num_rows = math.ceil(message_length / self.key)\n",
    "        \n",
    "        encrypted_message = \"\"\n",
    "        # Perform the columnar transposition\n",
    "        for col in range(self.key):  # Iterate over columns\n",
    "            for row in range(num_rows):  # Iterate over rows\n",
    "                index = col + row * self.key  # Calculate the index\n",
    "                if index < message_length:  # Ignore unused cells\n",
    "                    encrypted_message += message[index]\n",
    "        print(f\"Encrypting message: {message} with key: {self.key}\")\n",
    "        return encrypted_message\n",
    "       \n",
    "    def decrypt_message2(self, message):\n",
    "        \n",
    "        # Convert the message to lowercase and split it into a list of characters\n",
    "        message_split = list(message.lower())\n",
    "        \n",
    "        # Determine the length of the message\n",
    "        message_length = len(message_split)\n",
    "        \n",
    "        # Determine the number of columns in the decryption grid by calculating the \n",
    "        # ceiling value after dividing the message length by the key\n",
    "        message_ceil = ceil(message_length/self.key)\n",
    "        \n",
    "        # Calculate the number of empty (unused) cells in the grid\n",
    "        num_empty_cells = self.key*message_ceil - message_length\n",
    "        \n",
    "        # Initialize a grid for the decrypted message having as many rows as the\n",
    "        # key and as many columns as the calculated ceiling value\n",
    "        message_grid = [['' for _ in range(message_ceil)] for _ in range(self.key)]\n",
    "        \n",
    "        # Initialize the decrypted message as an empty string\n",
    "        message_decrypted = ''\n",
    "        \n",
    "        # Create an iterator for the split message\n",
    "        iterator = iter(message_split)\n",
    "\n",
    "        # Populate the decryption grid\n",
    "        # Iterate over the rows (from 0 to key-1)\n",
    "        for i in range(self.key):\n",
    "\n",
    "            # Determine the number of columns to populate\n",
    "            # If the row doesn't contain an empty cell, populate all cells from column = 0 to column = message_ceil\n",
    "            if i < self.key - num_empty_cells:\n",
    "                columns = message_ceil\n",
    "            # If the row contains an empty cell, populate all cells from column = 0 to column = message_ceil-1\n",
    "            else:\n",
    "                columns = message_ceil - 1\n",
    "\n",
    "            # Populate the row based on the number of columns calculated above\n",
    "            # The iterator keeps track of the current character\n",
    "            for j in range(columns):\n",
    "                message_grid[i][j] = next(iterator, None)\n",
    "\n",
    "        # Build the decrypted message from the grid\n",
    "        # Read the message column by column\n",
    "        for j in range(message_ceil):\n",
    "            for i in range(self.key):\n",
    "                message_decrypted += message_grid[i][j]\n",
    "\n",
    "        # Return the decrypted message\n",
    "        return message_decrypted"
   ]
  },
  {
   "cell_type": "markdown",
   "id": "addc9042",
   "metadata": {},
   "source": [
    "# Test the code by encrypting and decrypting a message"
   ]
  },
  {
   "cell_type": "code",
   "execution_count": 39,
   "id": "8c8f8aa3",
   "metadata": {},
   "outputs": [
    {
     "name": "stdout",
     "output_type": "stream",
     "text": [
      "Encrypting message: learning python is fun with key: 6\n",
      "Encrypted Message: lnh egofa nurp nnyiits\n",
      "Decrypted Message: lorinfpiha t  nsennguy\n",
      "Decrypted Message: learning python is fun\n"
     ]
    }
   ],
   "source": [
    "# Testing the encryption and decryption\n",
    "if __name__ == \"__main__\":\n",
    "    cipher = TranspositionCipher(6)  # Key = 6\n",
    "\n",
    "    plaintext = \"Learning Python is fun\"\n",
    "    \n",
    "    encrypted = cipher.encrypt_message(plaintext)\n",
    "    print(f\"Encrypted Message: {encrypted}\")\n",
    "\n",
    "    decrypted1 = cipher.decrypt_message1(encrypted)\n",
    "    print(f\"Decrypted Message: {decrypted1}\")\n",
    "    \n",
    "    decrypted2 = cipher.decrypt_message2(encrypted)\n",
    "    print(f\"Decrypted Message: {decrypted2}\")"
   ]
  }
 ],
 "metadata": {
  "kernelspec": {
   "display_name": "Python 3",
   "language": "python",
   "name": "python3"
  },
  "language_info": {
   "codemirror_mode": {
    "name": "ipython",
    "version": 3
   },
   "file_extension": ".py",
   "mimetype": "text/x-python",
   "name": "python",
   "nbconvert_exporter": "python",
   "pygments_lexer": "ipython3",
   "version": "3.10.11"
  }
 },
 "nbformat": 4,
 "nbformat_minor": 5
}
